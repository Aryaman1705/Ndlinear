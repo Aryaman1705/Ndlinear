{
  "nbformat": 4,
  "nbformat_minor": 0,
  "metadata": {
    "colab": {
      "provenance": []
    },
    "kernelspec": {
      "name": "python3",
      "display_name": "Python 3"
    },
    "language_info": {
      "name": "python"
    }
  },
  "cells": [
    {
      "cell_type": "code",
      "source": [
        "import torch\n",
        "import torch.nn as nn\n",
        "import torchvision\n",
        "import torchvision.transforms as transforms\n",
        "from ndlinear import NdLinear\n",
        "import matplotlib.pyplot as plt"
      ],
      "metadata": {
        "id": "Pm3NZ943yfzw"
      },
      "execution_count": 13,
      "outputs": []
    },
    {
      "cell_type": "code",
      "source": [
        "transform = transforms.Compose([transforms.ToTensor(), transforms.Normalize((0.1307,), (0.3081,))])\n",
        "train_dataset = torchvision.datasets.MNIST(root='./data', train=True, transform=transform, download=True)\n",
        "test_dataset = torchvision.datasets.MNIST(root='./data', train=False, transform=transform)\n",
        "train_loader = torch.utils.data.DataLoader(dataset=train_dataset, batch_size=64, shuffle=True)\n",
        "test_loader = torch.utils.data.DataLoader(dataset=test_dataset, batch_size=64, shuffle=False)"
      ],
      "metadata": {
        "colab": {
          "base_uri": "https://localhost:8080/"
        },
        "id": "urY1VqgJyhPd",
        "outputId": "eb45c8e2-b2d4-4ae9-b0f0-975542f7471d"
      },
      "execution_count": 14,
      "outputs": [
        {
          "output_type": "stream",
          "name": "stderr",
          "text": [
            "100%|██████████| 9.91M/9.91M [00:00<00:00, 20.6MB/s]\n",
            "100%|██████████| 28.9k/28.9k [00:00<00:00, 614kB/s]\n",
            "100%|██████████| 1.65M/1.65M [00:00<00:00, 5.58MB/s]\n",
            "100%|██████████| 4.54k/4.54k [00:00<00:00, 5.98MB/s]\n"
          ]
        }
      ]
    },
    {
      "cell_type": "code",
      "source": [
        "class CNNWithNdLinear(nn.Module):\n",
        "    def __init__(self):\n",
        "        super(CNNWithNdLinear, self).__init__()\n",
        "        self.conv1 = nn.Conv2d(1, 16, kernel_size=3, stride=1, padding=1)  # Output: (batch, 16, 28, 28)\n",
        "        self.conv2 = nn.Conv2d(16, 32, kernel_size=3, stride=1, padding=1) # Output: (batch, 32, 14, 14)\n",
        "        self.pool = nn.MaxPool2d(kernel_size=2, stride=2)                  # Reduces spatial dims by half\n",
        "        self.relu = nn.ReLU()\n",
        "        # NdLinear: input_dims=(32, 7, 7) matches (channels, height, width), hidden_size=(10, 1, 1) for 10 classes\n",
        "        self.ndlinear = NdLinear(input_dims=(32, 7, 7), hidden_size=(10, 1, 1))\n",
        "\n",
        "    def forward(self, x):\n",
        "        x = self.pool(self.relu(self.conv1(x)))  # (batch, 16, 14, 14)\n",
        "        x = self.pool(self.relu(self.conv2(x)))  # (batch, 32, 7, 7)\n",
        "        x = self.ndlinear(x)                     # (batch, 10, 1, 1)\n",
        "        x = x.view(-1, 10)                       # Flatten to (batch, 10) for classification\n",
        "        return x\n",
        "\n",
        "# Initialize model, loss, and optimizer\n",
        "model = CNNWithNdLinear().to(device)\n",
        "criterion = nn.CrossEntropyLoss()\n",
        "optimizer = torch.optim.Adam(model.parameters(), lr=0.001)"
      ],
      "metadata": {
        "id": "tMk4A_6fyj6z"
      },
      "execution_count": 18,
      "outputs": []
    },
    {
      "cell_type": "code",
      "source": [
        "class CNNWithLinear(nn.Module):\n",
        "    def __init__(self):\n",
        "        super(CNNWithLinear, self).__init__()\n",
        "        self.conv1 = nn.Conv2d(1, 16, kernel_size=3, stride=1, padding=1)\n",
        "        self.conv2 = nn.Conv2d(16, 32, kernel_size=3, stride=1, padding=1)\n",
        "        self.pool = nn.MaxPool2d(kernel_size=2, stride=2)\n",
        "        self.relu = nn.ReLU()\n",
        "        self.linear = nn.Linear(32 * 7 * 7, 10)  # Flattened input\n",
        "\n",
        "    def forward(self, x):\n",
        "        x = self.pool(self.relu(self.conv1(x)))\n",
        "        x = self.pool(self.relu(self.conv2(x)))\n",
        "        x = x.view(-1, 32 * 7 * 7)  # Flatten\n",
        "        x = self.linear(x)\n",
        "        return x"
      ],
      "metadata": {
        "id": "DFuZKbUcynau"
      },
      "execution_count": 16,
      "outputs": []
    },
    {
      "cell_type": "code",
      "source": [
        "device = torch.device('cuda' if torch.cuda.is_available() else 'cpu')\n",
        "model = CNNWithNdLinear().to(device)\n",
        "criterion = nn.CrossEntropyLoss()\n",
        "optimizer = torch.optim.Adam(model.parameters(), lr=0.001)\n",
        "\n",
        "num_epochs = 5\n",
        "for epoch in range(num_epochs):\n",
        "    model.train()\n",
        "    for images, labels in train_loader:\n",
        "        images, labels = images.to(device), labels.to(device)\n",
        "        outputs = model(images)\n",
        "        loss = criterion(outputs, labels)\n",
        "        optimizer.zero_grad()\n",
        "        loss.backward()\n",
        "        optimizer.step()\n",
        "    print(f'Epoch [{epoch+1}/{num_epochs}], Loss: {loss.item():.4f}')"
      ],
      "metadata": {
        "colab": {
          "base_uri": "https://localhost:8080/"
        },
        "id": "hSEMKqVxyrzM",
        "outputId": "3a9aa92b-140c-45e7-85d1-18f7b3e19c06"
      },
      "execution_count": 19,
      "outputs": [
        {
          "output_type": "stream",
          "name": "stdout",
          "text": [
            "Epoch [1/5], Loss: 0.4316\n",
            "Epoch [2/5], Loss: 0.2707\n",
            "Epoch [3/5], Loss: 0.1919\n",
            "Epoch [4/5], Loss: 0.0984\n",
            "Epoch [5/5], Loss: 0.1701\n"
          ]
        }
      ]
    },
    {
      "cell_type": "code",
      "source": [
        "model.eval()\n",
        "correct, total = 0, 0\n",
        "with torch.no_grad():\n",
        "    for images, labels in test_loader:\n",
        "        images, labels = images.to(device), labels.to(device)\n",
        "        outputs = model(images)\n",
        "        _, predicted = torch.max(outputs.data, 1)\n",
        "        total += labels.size(0)\n",
        "        correct += (predicted == labels).sum().item()\n",
        "print(f'Test Accuracy: {100 * correct / total:.2f}%')"
      ],
      "metadata": {
        "colab": {
          "base_uri": "https://localhost:8080/"
        },
        "id": "B0VGUeAPzC5c",
        "outputId": "692495b6-b297-4c5d-c1df-6be7b6ed1063"
      },
      "execution_count": 20,
      "outputs": [
        {
          "output_type": "stream",
          "name": "stdout",
          "text": [
            "Test Accuracy: 95.01%\n"
          ]
        }
      ]
    },
    {
      "cell_type": "code",
      "source": [
        "def count_parameters(model):\n",
        "    return sum(p.numel() for p in model.parameters() if p.requires_grad)\n",
        "\n",
        "ndlinear_model = CNNWithNdLinear()\n",
        "linear_model = CNNWithLinear()\n",
        "print(f'NdLinear Model Parameters: {count_parameters(ndlinear_model)}')\n",
        "print(f'Linear Model Parameters: {count_parameters(linear_model)}')"
      ],
      "metadata": {
        "colab": {
          "base_uri": "https://localhost:8080/"
        },
        "id": "rQs0_Zf2z-_a",
        "outputId": "48d619e4-de16-40ed-e980-a60399e15c9a"
      },
      "execution_count": 21,
      "outputs": [
        {
          "output_type": "stream",
          "name": "stdout",
          "text": [
            "NdLinear Model Parameters: 5146\n",
            "Linear Model Parameters: 20490\n"
          ]
        }
      ]
    },
    {
      "cell_type": "code",
      "source": [
        "model.eval()\n",
        "images, labels = next(iter(test_loader))\n",
        "images, labels = images.to(device), labels.to(device)\n",
        "outputs = model(images)\n",
        "_, predicted = torch.max(outputs, 1)\n",
        "\n",
        "fig, axes = plt.subplots(1, 5, figsize=(15, 3))\n",
        "for i in range(5):\n",
        "    axes[i].imshow(images[i].cpu().squeeze(), cmap='gray')\n",
        "    axes[i].set_title(f'Pred: {predicted[i].item()}, True: {labels[i].item()}')\n",
        "    axes[i].axis('off')\n",
        "plt.show()"
      ],
      "metadata": {
        "colab": {
          "base_uri": "https://localhost:8080/",
          "height": 259
        },
        "id": "s_c1Zus00BJT",
        "outputId": "f68b11a5-10c1-4871-f4ab-9fb9527bf7f9"
      },
      "execution_count": 22,
      "outputs": [
        {
          "output_type": "display_data",
          "data": {
            "text/plain": [
              "<Figure size 1500x300 with 5 Axes>"
            ],
            "image/png": "[encoded data removed]"
          },
          "metadata": {}
        }
      ]
    }
  ]
}